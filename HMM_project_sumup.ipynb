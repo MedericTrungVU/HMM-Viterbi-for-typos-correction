{
 "cells": [
  {
   "cell_type": "markdown",
   "metadata": {},
   "source": [
    "# Read data from pickle file"
   ]
  },
  {
   "cell_type": "code",
   "execution_count": 2,
   "metadata": {
    "collapsed": true
   },
   "outputs": [],
   "source": [
    "def read_file(file):\n",
    "    data = []\n",
    "    with open(file, 'rb') as f:\n",
    "        while True:\n",
    "            try:\n",
    "                data.append(pickle.load(f))\n",
    "            except EOFError:\n",
    "                break\n",
    "    return data "
   ]
  },
  {
   "cell_type": "markdown",
   "metadata": {},
   "source": [
    "# Examiner les données"
   ]
  },
  {
   "cell_type": "code",
   "execution_count": 9,
   "metadata": {
    "collapsed": true
   },
   "outputs": [],
   "source": [
    "import operator\n",
    "from functools import reduce\n",
    "import pandas as pd\n",
    "import numpy as np\n",
    "\n",
    "def analyse_data(data_set):\n",
    "    all_characters = reduce(operator.concat, data_set[0])\n",
    "    df_train = pd.DataFrame(all_characters, columns=[\"obs\", \"state\"])\n",
    "    df_train['bigram'] = df_train['state']+df_train['state'].shift(-1)\n",
    "    df_train['obs_state_pair'] = df_train['obs']+df_train['state']\n",
    "    bigram_count = df_train.bigram.value_counts()\n",
    "    observation_count = df_train.obs_state_pair.value_counts()\n",
    "    alphabet = []\n",
    "    for letter in range(97,123):\n",
    "        alphabet.append(chr(letter))\n",
    "    \n",
    "    # counting transition probabilities\n",
    "    M_transitions = np.zeros((26,26), dtype=float) # matrix of counting transition\n",
    "    for bi in bigram_count.iteritems():\n",
    "        M_transitions[alphabet.index(bi[0][0]), alphabet.index(bi[0][1])] = bi[1]\n",
    "    M_probas_transitions = np.zeros((26,26), dtype=float)\n",
    "    sum_by_row = np.expand_dims(np.sum(M_transitions, axis=1), axis=1)\n",
    "    M_probas_transitions = M_transitions / np.tile(sum_by_row, (1, M_transitions.shape[1]))\n",
    "    \n",
    "    # counting observation probabilities\n",
    "    M_observation = np.zeros((26,26), dtype=float)\n",
    "    for ob in observation_count.iteritems():\n",
    "        M_observation[alphabet.index(ob[0][0]), alphabet.index(ob[0][1])] = ob[1]\n",
    "    M_probas_observation = np.zeros((26,26), dtype=float)\n",
    "    sum_by_column = np.expand_dims(np.sum(M_observation, axis=0), axis=0)\n",
    "    M_probas_observation = M_observation / np.tile(sum_by_column, (M_observation.shape[1], 1))\n",
    "    \n",
    "    # initial states probabilities\n",
    "    initial_state_proba = zeros( (len(alphabet)), float )\n",
    "    for i, phrase in enumerate(data_set[0]):\n",
    "        initial_state_proba[alphabet.index(phrase[0][1])] +=1\n",
    "    initial_state_proba = initial_state_proba / len(data_set[0])\n",
    "    \n",
    "    # for second-order modele: calculating two-state transition probabilities\n",
    "    dict_trigram = {}\n",
    "    for lettre in alphabet:\n",
    "        dict_trigram[lettre] = np.zeros((26,26))\n",
    "    df_train['combined'] = df_train['state']+df_train['state'].shift(-1)+df_train['state'].shift(-2)\n",
    "    combined_counts = df_train.combined.value_counts()\n",
    "    for tri in combined_counts.iteritems():\n",
    "        M_temps = dict_trigram[tri[0][0]]\n",
    "        M_temps[alphabet.index(tri[0][1]), alphabet.index(tri[0][2])] = tri[1]\n",
    "    dict_trigram_probas = {}\n",
    "    for lettre, matrix in dict_trigram.items():\n",
    "        sum_by_row = np.expand_dims(np.sum(matrix, axis=1), axis=1) + 1e-5\n",
    "        dict_trigram_probas[lettre] = matrix / np.tile(sum_by_row, (1, matrix.shape[1]))\n",
    "    \n",
    "    \n",
    "    return (M_probas_transitions, M_probas_observation, initial_state_proba, dict_trigram_probas)"
   ]
  },
  {
   "cell_type": "markdown",
   "metadata": {},
   "source": [
    "# Model HMM with Viterbi algorithm"
   ]
  },
  {
   "cell_type": "code",
   "execution_count": 10,
   "metadata": {
    "collapsed": true
   },
   "outputs": [],
   "source": [
    "import nltk\n",
    "from numpy import array, ones, zeros\n",
    "import sys\n",
    "\n",
    "# Some words in test could be unseen during training, or out of the vocabulary (OOV) even during the training. \n",
    "# To manage OOVs, all words out the vocabulary are mapped on a special token: UNK defined as follows: \n",
    "UNK = \"<unk>\" \n",
    "UNKid = 0 \n",
    "\n",
    "class HMM:\n",
    "        def __init__(self, state_list, observation_list, dict_trigram_probas,\n",
    "                 transition_proba = None,\n",
    "                 observation_proba = None,\n",
    "                 initial_state_proba = None):\n",
    "            \"\"\"Builds a new Hidden Markov Model\n",
    "            state_list is the list of state symbols [q_0...q_(N-1)]\n",
    "            observation_list is the list of observation symbols [v_0...v_(M-1)]\n",
    "            transition_proba is the transition probability matrix\n",
    "                [a_ij] a_ij = Pr(Y_(t+1)=q_i|Y_t=q_j)\n",
    "            observation_proba is the observation probablility matrix\n",
    "                [b_ki] b_ki = Pr(X_t=v_k|Y_t=q_i)\n",
    "            initial_state_proba is the initial state distribution\n",
    "                [pi_i] pi_i = Pr(Y_0=q_i)\"\"\"\n",
    "            print (\"HMM creating with: \")\n",
    "            self.N = len(state_list) # The number of states\n",
    "            self.M = len(observation_list) # The number of words in the vocabulary\n",
    "            print (str(self.N)+\" states\")\n",
    "            print (str(self.M)+\" observations\")\n",
    "            self.omega_Y = state_list # Keep the vocabulary of tags\n",
    "            self.omega_X = observation_list # Keep the vocabulary of tags\n",
    "            # Init. of the 3 distributions : observation, transition and initial states\n",
    "            if transition_proba is None:\n",
    "                self.transition_proba = zeros( (self.N, self.N), float) \n",
    "            else:\n",
    "                self.transition_proba=transition_proba\n",
    "            if observation_proba is None:\n",
    "                self.observation_proba = zeros( (self.M, self.N), float) \n",
    "            else:\n",
    "                self.observation_proba=observation_proba\n",
    "            if initial_state_proba is None:\n",
    "                self.initial_state_proba = zeros( (self.N,), float ) \n",
    "            else:\n",
    "                self.initial_state_proba=initial_state_proba\n",
    "            self.dict_trigram_probas = dict_trigram_probas\n",
    "            # Since everything will be stored in numpy arrays, it is more convenient and compact to \n",
    "            # handle words and tags as indices (integer) for a direct access. However, we also need \n",
    "            # to keep the mapping between strings (word or tag) and indices.\n",
    "            self.alphabet = state_list\n",
    "            self.make_indexes()\n",
    "\n",
    "        def make_indexes(self):\n",
    "            \"\"\"Creates the reverse table that maps states/observations names\n",
    "            to their index in the probabilities arrays\"\"\"\n",
    "            self.Y_index = {}\n",
    "            for i in range(self.N):\n",
    "                self.Y_index[self.omega_Y[i]] = i\n",
    "            self.X_index = {}\n",
    "            for i in range(self.M):\n",
    "                self.X_index[self.omega_X[i]] = i\n",
    "        \n",
    "        def first_order(self, X_test):\n",
    "            # unpack test set to list of tuples\n",
    "            test_tuples = reduce(operator.concat, X_test[0])\n",
    "            accuracy = 0\n",
    "            for word in X_test[0]:\n",
    "                predited_list=[]\n",
    "                backward = np.zeros((len(self.alphabet), len(word)))\n",
    "                q_table = np.zeros((len(self.alphabet), len(word)))\n",
    "                for t, pair in enumerate(word):\n",
    "                    if t==0:\n",
    "                        index = self.alphabet.index(pair[0])\n",
    "                        q_table[:,0] = np.multiply(self.initial_state_proba, self.observation_proba[index,:])\n",
    "                        backward[:,0] = 0\n",
    "                        \n",
    "                    else:\n",
    "                        for s in range(26):\n",
    "                            beta = np.multiply( self.transition_proba[:,s], q_table[:,t-1] )\n",
    "                            index = self.alphabet.index(pair[0])\n",
    "                            before_max = np.multiply(self.observation_proba[index, s], beta)\n",
    "                            q_table[s,t] = np.max(before_max)\n",
    "                            backward[s,t] = np.argmax(beta)\n",
    "                    \n",
    "                final_state_index = np.argmax(q_table[:,len(word)-1])\n",
    "                predited_list.insert(0, self.alphabet[final_state_index])\n",
    "                \n",
    "                for i in range(1,len(word)):\n",
    "                    if i==1:\n",
    "                        index_previous_state = backward[final_state_index, len(word)-i]\n",
    "                    else:\n",
    "                        index_previous_state = backward[int(index_previous_state), len(word)-i]\n",
    "                    predited_list.insert(0, self.alphabet[int(index_previous_state)])\n",
    "                \n",
    "                # calculate accuracy:\n",
    "                for t, pair in enumerate(word):\n",
    "                    if pair[1] == predited_list[t]:\n",
    "                        accuracy +=1\n",
    "                    #else:\n",
    "                        #print(\"word=\", word, \"----true state:\", pair[1], \"--- predicted state:\", predited_list[t])\n",
    "            print(\"There are\", len(test_tuples), \"characters in\", len(X_test[0]), \"words from test set\")\n",
    "            print(\"Modele has predicted exaclty\", accuracy, \"states of typos\")\n",
    "            print(\"Accuracy is:\", accuracy/len(test_tuples))\n",
    "            \n",
    "        def second_order(self, X_test):\n",
    "            test_tuples = reduce(operator.concat, X_test[0])\n",
    "            accuracy = 0\n",
    "            #Step 1:\n",
    "            for word in X_test[0]:\n",
    "                predited_list=[]\n",
    "                q_table = []\n",
    "                backward = []\n",
    "                for w in range(len(word)):\n",
    "                    backward.append(np.zeros((26,26)))\n",
    "                for w in range(len(word)):\n",
    "                    if w == 0:\n",
    "                        q_table.append(np.zeros((26)))\n",
    "                    else:\n",
    "                        q_table.append(np.zeros((26,26)))\n",
    "\n",
    "                for i, pair in enumerate(word):\n",
    "                    if i==0:\n",
    "                        index0 = self.alphabet.index(pair[0])\n",
    "                        for l in range(26):\n",
    "                            q_table[i][l] = self.initial_state_proba[l] * self.observation_proba[index0, l]\n",
    "                    \n",
    "                    elif i==1:\n",
    "                        index1 = self.alphabet.index(pair[0])\n",
    "                        for l in range(26):\n",
    "                            for m in range(26):\n",
    "                                # d2(l,m) = q_table(l*26+m, 1)\n",
    "                                q_table[i][l, m] = q_table[i-1][l] * self.transition_proba[l,m] *\\\n",
    "                                                                self.observation_proba[index1, m]\n",
    "                    # step 2\n",
    "                    else:\n",
    "                        index = self.alphabet.index(pair[0])\n",
    "                        for m in range(26):\n",
    "                            for n in range(26):\n",
    "                                array_temps_d = np.zeros((26))\n",
    "                                array_temps_c = np.zeros((26))\n",
    "                                for l in range(26):\n",
    "                                    state_l = self.alphabet[l]\n",
    "                                    d = q_table[i-1][l,m]*self.dict_trigram_probas[state_l][m,n]*\\\n",
    "                                                                    self.observation_proba[index,n]\n",
    "                                    c = q_table[i-1][l,m]*self.dict_trigram_probas[state_l][m,n]\n",
    "                                    array_temps_d[l] = d\n",
    "                                    array_temps_c[l] = c\n",
    "                                    \n",
    "                                q_table[i][m,n] = np.max(array_temps_d)\n",
    "                                backward[i][m,n] = np.argmax(array_temps_c)\n",
    "                K = len(word)-1\n",
    "                if len(word) == 1:\n",
    "                    final_state_compound = np.argwhere(q_table[K].max() == q_table[K])\n",
    "                    only_state = final_state_compound[0][0]\n",
    "                    predited_list.insert(0, self.alphabet[only_state])\n",
    "                else:    \n",
    "                    \n",
    "                    final_state_compound = np.argwhere(q_table[K].max() == q_table[K])\n",
    "                    final_state_index = final_state_compound[0][1]\n",
    "                    before_final_index = final_state_compound[0][0]\n",
    "                    predited_list.insert(0, self.alphabet[final_state_index])\n",
    "                    predited_list.insert(0, self.alphabet[before_final_index])\n",
    "                \n",
    "                for i in range(len(word)-1, 1, -1):\n",
    "                    index_compound = backward[i][before_final_index, final_state_index]\n",
    "                    index_previous_state = int(index_compound)\n",
    "                    predited_list.insert(0, self.alphabet[index_previous_state])\n",
    "                    final_state_index = before_final_index\n",
    "                    before_final_index = index_previous_state\n",
    "                \n",
    "                # calculate accuracy:\n",
    "                for t, pair in enumerate(word):\n",
    "                    if pair[1] == predited_list[t]:\n",
    "                        accuracy +=1\n",
    "                    #else:\n",
    "                        #print(\"word=\", word, \"----true state:\", pair[1], \"--- predicted state:\", predited_list[t])\n",
    "            print(\"There are\", len(test_tuples), \"characters in\", len(X_test[0]), \"words from test set\")\n",
    "            print(\"Modele has predicted exaclty\", accuracy, \"states of typos\")\n",
    "            print(\"Accuracy is:\", accuracy/len(test_tuples))"
   ]
  },
  {
   "cell_type": "markdown",
   "metadata": {},
   "source": [
    "# Load data and test model"
   ]
  },
  {
   "cell_type": "code",
   "execution_count": 11,
   "metadata": {
    "collapsed": true
   },
   "outputs": [],
   "source": [
    "import pickle\n",
    "TRAIN_PATH_10 = \"typos-data/train10.pkl\"\n",
    "TEST_PATH_10 = \"typos-data/test10.pkl\"\n",
    "TRAIN_PATH_20 = \"typos-data/train20.pkl\"\n",
    "TEST_PATH_20 = \"typos-data/test20.pkl\""
   ]
  },
  {
   "cell_type": "code",
   "execution_count": 26,
   "metadata": {
    "collapsed": true
   },
   "outputs": [],
   "source": [
    "train_set_10 = read_file(TRAIN_PATH_10)\n",
    "test_set_10 = read_file(TEST_PATH_10)\n",
    "train_set_20 = read_file(TRAIN_PATH_20)\n",
    "test_set_20 = read_file(TEST_PATH_20)"
   ]
  },
  {
   "cell_type": "markdown",
   "metadata": {},
   "source": [
    "### Test with dataset of 10% typos"
   ]
  },
  {
   "cell_type": "code",
   "execution_count": 14,
   "metadata": {
    "collapsed": false
   },
   "outputs": [],
   "source": [
    "all_probas = analyse_data(train_set_10)\n",
    "M_probas_transitions = all_probas[0]\n",
    "M_probas_observation = all_probas[1]\n",
    "initial_state_proba = all_probas[2]\n",
    "dict_trigram_probas = all_probas[3]"
   ]
  },
  {
   "cell_type": "code",
   "execution_count": 15,
   "metadata": {
    "collapsed": false
   },
   "outputs": [
    {
     "name": "stdout",
     "output_type": "stream",
     "text": [
      "HMM creating with: \n",
      "26 states\n",
      "26 observations\n"
     ]
    }
   ],
   "source": [
    "state_list = []\n",
    "for letter in range(97,123):\n",
    "    state_list.append(chr(letter))\n",
    "observation_list = state_list\n",
    "\n",
    "HMM_model = HMM(state_list, observation_list, dict_trigram_probas,\n",
    "                 transition_proba = M_probas_transitions,\n",
    "                 observation_proba = M_probas_observation,\n",
    "                 initial_state_proba = initial_state_proba)"
   ]
  },
  {
   "cell_type": "markdown",
   "metadata": {},
   "source": [
    "#### first order viterbi algorithm"
   ]
  },
  {
   "cell_type": "code",
   "execution_count": 16,
   "metadata": {
    "collapsed": false
   },
   "outputs": [
    {
     "name": "stdout",
     "output_type": "stream",
     "text": [
      "There are 7320 characters in 1501 words from test set\n",
      "Modele has predicted exaclty 6800 states of typos\n",
      "Accuracy is: 0.9289617486338798\n"
     ]
    }
   ],
   "source": [
    "HMM_model.first_order(test_set_10)"
   ]
  },
  {
   "cell_type": "markdown",
   "metadata": {},
   "source": [
    "#### second order viterbi algorithm"
   ]
  },
  {
   "cell_type": "code",
   "execution_count": 17,
   "metadata": {
    "collapsed": false
   },
   "outputs": [
    {
     "name": "stdout",
     "output_type": "stream",
     "text": [
      "There are 7320 characters in 1501 words from test set\n",
      "Modele has predicted exaclty 6909 states of typos\n",
      "Accuracy is: 0.9438524590163935\n"
     ]
    }
   ],
   "source": [
    "HMM_model.second_order(test_set_10)"
   ]
  },
  {
   "cell_type": "markdown",
   "metadata": {},
   "source": [
    "### Test with dataset of 20% typos"
   ]
  },
  {
   "cell_type": "code",
   "execution_count": 23,
   "metadata": {
    "collapsed": true
   },
   "outputs": [],
   "source": [
    "all_probas_20 = analyse_data(train_set_20)\n",
    "M_probas_transitions_20 = all_probas_20[0]\n",
    "M_probas_observation_20 = all_probas_20[1]\n",
    "initial_state_proba_20 = all_probas_20[2]\n",
    "dict_trigram_probas_20 = all_probas_20[3]"
   ]
  },
  {
   "cell_type": "code",
   "execution_count": 24,
   "metadata": {
    "collapsed": false
   },
   "outputs": [
    {
     "name": "stdout",
     "output_type": "stream",
     "text": [
      "HMM creating with: \n",
      "26 states\n",
      "26 observations\n"
     ]
    }
   ],
   "source": [
    "state_list = []\n",
    "for letter in range(97,123):\n",
    "    state_list.append(chr(letter))\n",
    "observation_list = state_list\n",
    "\n",
    "HMM_model_20 = HMM(state_list, observation_list, dict_trigram_probas_20,\n",
    "                 transition_proba = M_probas_transitions_20,\n",
    "                 observation_proba = M_probas_observation_20,\n",
    "                 initial_state_proba = initial_state_proba_20)"
   ]
  },
  {
   "cell_type": "markdown",
   "metadata": {},
   "source": [
    "#### first order viterbi algorithm"
   ]
  },
  {
   "cell_type": "code",
   "execution_count": 27,
   "metadata": {
    "collapsed": false
   },
   "outputs": [
    {
     "name": "stdout",
     "output_type": "stream",
     "text": [
      "There are 16691 characters in 3374 words from test set\n",
      "Modele has predicted exaclty 14403 states of typos\n",
      "Accuracy is: 0.8629201366005632\n"
     ]
    }
   ],
   "source": [
    "HMM_model_20.first_order(test_set_20)"
   ]
  },
  {
   "cell_type": "markdown",
   "metadata": {},
   "source": [
    "#### second order viterbi algorithm"
   ]
  },
  {
   "cell_type": "code",
   "execution_count": 28,
   "metadata": {
    "collapsed": false
   },
   "outputs": [
    {
     "name": "stdout",
     "output_type": "stream",
     "text": [
      "There are 16691 characters in 3374 words from test set\n",
      "Modele has predicted exaclty 15103 states of typos\n",
      "Accuracy is: 0.9048589059972441\n"
     ]
    }
   ],
   "source": [
    "HMM_model_20.second_order(test_set_20)"
   ]
  },
  {
   "cell_type": "code",
   "execution_count": null,
   "metadata": {
    "collapsed": true
   },
   "outputs": [],
   "source": []
  }
 ],
 "metadata": {
  "kernelspec": {
   "display_name": "stanf",
   "language": "python",
   "name": "stanf"
  },
  "language_info": {
   "codemirror_mode": {
    "name": "ipython",
    "version": 3
   },
   "file_extension": ".py",
   "mimetype": "text/x-python",
   "name": "python",
   "nbconvert_exporter": "python",
   "pygments_lexer": "ipython3",
   "version": "3.6.6"
  }
 },
 "nbformat": 4,
 "nbformat_minor": 2
}
